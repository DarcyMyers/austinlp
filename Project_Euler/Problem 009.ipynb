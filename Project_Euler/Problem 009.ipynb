{
 "metadata": {
  "name": ""
 },
 "nbformat": 3,
 "nbformat_minor": 0,
 "worksheets": [
  {
   "cells": [
    {
     "cell_type": "markdown",
     "metadata": {},
     "source": [
      "UNFINISHED\n",
      "===\n",
      "\n",
      "![Project Euler.net](https://projecteuler.net/images/pe_banner_light.png)\n",
      "\n",
      "https://projecteuler.net/problem=9\n",
      "Problem 9 - Special Pythagorean triplet.\n",
      "====\n",
      "\n",
      "A Pythagorean triplet is a set of three natural numbers, $a < b < c$, for which,\n",
      "$a^2 + b^2 = c^2$\n",
      "\n",
      "For example, $3^2 + 4^2 = 9 + 16 = 25 = 5^2$.\n",
      "\n",
      "There exists exactly one Pythagorean triplet for which $a + b + c = 1000$.\n",
      "Find the product $abc$.\n"
     ]
    },
    {
     "cell_type": "markdown",
     "metadata": {},
     "source": [
      "----\n",
      "\n",
      "----"
     ]
    },
    {
     "cell_type": "code",
     "collapsed": false,
     "input": [],
     "language": "python",
     "metadata": {},
     "outputs": []
    },
    {
     "cell_type": "code",
     "collapsed": false,
     "input": [],
     "language": "python",
     "metadata": {},
     "outputs": []
    }
   ],
   "metadata": {}
  }
 ]
}