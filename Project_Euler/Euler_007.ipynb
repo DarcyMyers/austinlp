{
 "metadata": {
  "name": ""
 },
 "nbformat": 3,
 "nbformat_minor": 0,
 "worksheets": [
  {
   "cells": [
    {
     "cell_type": "markdown",
     "metadata": {},
     "source": [
      "![Project Euler.net](https://projecteuler.net/images/pe_banner_light.png)\n",
      "\n",
      "https://projecteuler.net/problem=7\n",
      "Problem 7 - 10001st prime.\n",
      "====\n",
      "\n",
      "By listing the first six prime numbers: 2, 3, 5, 7, 11, and 13, we can see that the 6th prime is 13.\n",
      "\n",
      "What is the 10001st prime number?"
     ]
    },
    {
     "cell_type": "markdown",
     "metadata": {},
     "source": [
      "----\n",
      "\n",
      "Aah, we finally get to prime numbers.  Pay attention, because lots of later Project Euler problems will use prime numbers, and the code we write here will prove useful again and again.\n",
      "\n",
      "----"
     ]
    },
    {
     "cell_type": "markdown",
     "metadata": {},
     "source": [
      "We're going to use an algorithm called the Sieve of Eratosthenes.  The algorithm is well worth understanding, and there is a nice graphical demonstration of how it works in the [Wikipedia article](https://en.wikipedia.org/wiki/Sieve_of_Eratosthenes).\n"
     ]
    },
    {
     "cell_type": "code",
     "collapsed": false,
     "input": [
      "LIMIT_PRIME = 125000  # Largest number we'll search\n",
      "prime_table = [1]*LIMIT_PRIME  # Table of largest factor\n",
      "\n",
      "def calculate_primes():\n",
      "    i = 2\n",
      "    while (i**2 < LIMIT_PRIME):\n",
      "        if (prime_table[i] == 1):\n",
      "            j = i**2\n",
      "            while (j < LIMIT_PRIME):\n",
      "                prime_table[j] = i\n",
      "                j += i\n",
      "        i += 1\n",
      "\n",
      "calculate_primes()\n",
      "\n",
      "print \"Done calculating primes\"\n",
      "\n",
      "cnt = 0\n",
      "i = 1\n",
      "while (cnt < 10001):\n",
      "    i += 1\n",
      "    if (prime_table[i] == 1):\n",
      "        cnt += 1\n",
      "print \"Answer is\", i\n"
     ],
     "language": "python",
     "metadata": {},
     "outputs": []
    },
    {
     "cell_type": "code",
     "collapsed": false,
     "input": [],
     "language": "python",
     "metadata": {},
     "outputs": []
    }
   ],
   "metadata": {}
  }
 ]
}