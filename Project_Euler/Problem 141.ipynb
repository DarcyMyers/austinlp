{
 "metadata": {
  "name": ""
 },
 "nbformat": 3,
 "nbformat_minor": 0,
 "worksheets": [
  {
   "cells": [
    {
     "cell_type": "markdown",
     "metadata": {},
     "source": [
      "UNFINISHED!!!\n",
      "====\n",
      "\n",
      "![Project Euler.net](https://projecteuler.net/images/pe_banner_light.png)\n",
      "\n",
      "https://projecteuler.net/problem=141\n",
      "Problem 141 - Investigating progressive numbers, n, which are also square\n",
      "====\n",
      "\n",
      "\n",
      "\n",
      "A positive integer, $n$, is divided by $d$ and the quotient and remainder are $q$ and $r$ respectively. In addition $d$, $q$, and $r$ are consecutive positive integer terms in a geometric sequence, but not necessarily in that order.\n",
      "\n",
      "For example, $58$ divided by $6$ has quotient $9$ and remainder $4$. It can also be seen that $4, 6, 9$ are consecutive terms in a geometric sequence (common ratio $3/2$).\n",
      "We will call such numbers, $n$, progressive.\n",
      "\n",
      "Some progressive numbers, such as $9$ and $10404 = 102^2$, happen to also be perfect squares.\n",
      "The sum of all progressive perfect squares below one hundred thousand is $124657$.\n",
      "\n",
      "Find the sum of all progressive perfect squares below one trillion ($10^{12}$)."
     ]
    },
    {
     "cell_type": "markdown",
     "metadata": {},
     "source": [
      "----\n",
      "\n",
      "Let's write a function that takes the size of the problem as a parameter, then verify it on the $n < 10^5$ version of the problem where already know the answer before attempting the bigger $n < 10^{12}$ problem.\n",
      "\n",
      "----"
     ]
    },
    {
     "cell_type": "markdown",
     "metadata": {},
     "source": [
      "So we're looking for\n",
      "$$\\DeclareMathOperator{\\rem}{remainder}$$\n",
      "$$\\frac{n}{d} = q \\rem r$$\n",
      "\n",
      "where $n$ is a perfect square, and $d$, $q$ & $r$ are in a geometric progression.  Rearranging we get\n",
      "\n",
      "$$n = d*q + r$$\n",
      "\n",
      "which shows that $d$ and $q$ are interchangable.  We'll arbitarily decide that $d$ is greater than $q$.  $r$ is the remainder when $n$ is divided by $d$ or $q$, so it must be less than both $d$ and $q$.  Thus we have...\n",
      "\n",
      "$$d > q > r$$\n",
      "\n",
      "A simple algorithm would be to try all values of $n$ that are prefect squares, and test all values of $q$ up to $\\sqrt{n}$ to see if they yield $d$, $q$ & $r$ in a geometric sequence."
     ]
    },
    {
     "cell_type": "code",
     "collapsed": false,
     "input": [
      "# Maybe insert code here to show how unacceptable the runtime\n",
      "# will be with the straightforward approach"
     ],
     "language": "python",
     "metadata": {},
     "outputs": [],
     "prompt_number": 1
    },
    {
     "cell_type": "markdown",
     "metadata": {},
     "source": [
      "Unfortunately, there are $10^6$ perfect square values of $n$ below $10^{12}$, and we'd have to try $\\sqrt{n}$ different $q$s for each one, which works out to be about $0.5*10^{12}$ candidates we'd have to test.  This seems unlikely to be fast enough for our needs.  We need a better algorithm.\n",
      "\n",
      "Let's turn the problem around and generate geometric sequences that yield $n$ less than $10^{12}$ to see if that is more practical.\n",
      "\n",
      "Since $d$, $q$ & $r$ are a geometric sequence, we have\n",
      "\n",
      "$$d = (\\frac{a}{b}) q = (\\frac{a^2}{b^2}) r$$\n",
      "\n",
      "We can generate these sequences by picking valid values of $a$, $b$ and $r$.  Luckily, there are lots of constraints on these values that limit the number of valid geometric sequences.\n",
      "\n",
      "In order to avoid repeating the same geometric sequence, we have to have $(\\dfrac{a}{b})$ in its simplest form, so $a$ and $b$ can share no common factors (i.e. $a$ and $b$ must be relatively prime to each other, or $\\gcd(a, b) = 1$).\n",
      "\n",
      "Next, $r$ must be less than $\\sqrt{n}$ because when $(\\dfrac{a}{b})$ is just slightly larger than 1, we get $n = d*q + r \\approx r^2 + r$.\n",
      "\n",
      "Finally, $b^2$ must be a factor of $r$, which significantly limits the possible values of $b$."
     ]
    },
    {
     "cell_type": "code",
     "collapsed": false,
     "input": [
      "def gcd(a,b):\n",
      "    if (b > a):\n",
      "        a,b = b,a\n",
      "    while b:\n",
      "        a, b = b, a%b\n",
      "    return a"
     ],
     "language": "python",
     "metadata": {},
     "outputs": [],
     "prompt_number": 2
    },
    {
     "cell_type": "code",
     "collapsed": false,
     "input": [
      "def is_square(n):\n",
      "    i = 1\n",
      "    lower = 1\n",
      "    while (i**2 < n):\n",
      "        lower = i\n",
      "        i *= 2\n",
      "\n",
      "    upper = i\n",
      "    while ((upper**2 > n) & (lower**2 < n) & ((upper-lower) > 1)):\n",
      "        #print \"n =\", n, \"is between the square of\", lower, \"and\", upper\n",
      "        mid = (upper + lower) / 2\n",
      "        #print \"trying \", mid\n",
      "        if (mid**2 > n):\n",
      "            upper = mid\n",
      "        else:\n",
      "            lower = mid\n",
      "\n",
      "    if (lower**2 == n):\n",
      "        #print \"{0}**2 = {1}\".format(lower,n)\n",
      "        return True\n",
      "    elif (upper**2 == n):\n",
      "        #print \"{0}**2 = {1}\".format(upper,n)\n",
      "        return True\n",
      "    else:\n",
      "        return False"
     ],
     "language": "python",
     "metadata": {},
     "outputs": [],
     "prompt_number": 3
    },
    {
     "cell_type": "code",
     "collapsed": false,
     "input": [
      "def geo_seq(n):\n",
      "    r = 1\n",
      "    while ((r**2 + r) <= n):\n",
      "        # Unfinished\n",
      "        r += 1"
     ],
     "language": "python",
     "metadata": {},
     "outputs": []
    }
   ],
   "metadata": {}
  }
 ]
}