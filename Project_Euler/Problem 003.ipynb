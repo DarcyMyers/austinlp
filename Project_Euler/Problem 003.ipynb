{
 "metadata": {
  "name": ""
 },
 "nbformat": 3,
 "nbformat_minor": 0,
 "worksheets": [
  {
   "cells": [
    {
     "cell_type": "markdown",
     "metadata": {},
     "source": [
      "![Project Euler.net](https://projecteuler.net/images/pe_banner_light.png)\n",
      "\n",
      "https://projecteuler.net/problem=3\n",
      "Problem 3 - Largest prime factor\n",
      "====\n",
      "\n",
      "The prime factors of 13195 are 5, 7, 13 and 29.\n",
      "\n",
      "What is the largest prime factor of the number 600851475143 ?"
     ]
    },
    {
     "cell_type": "markdown",
     "metadata": {},
     "source": [
      "----\n",
      "Note - once again, we are supplied with a  solution for a smaller version of the problem.  We should test our solution code with this smaller version before we try the larger version.\n",
      "\n",
      "----"
     ]
    },
    {
     "cell_type": "markdown",
     "metadata": {},
     "source": [
      "First approach to the problem - simple brute force division\n",
      "---"
     ]
    },
    {
     "cell_type": "code",
     "collapsed": false,
     "input": [
      "def solution_3(n):\n",
      "    i = 2\n",
      "    while (i**2 <= n):\n",
      "        while ((n % i) == 0):\n",
      "            n /= i\n",
      "            print(\"{} is a factor, remaining value is {}\".format(i, n))\n",
      "        i += 1\n",
      "    print(\"{} is the sole remaining factor\".format(n))\n",
      "    return n"
     ],
     "language": "python",
     "metadata": {},
     "outputs": [],
     "prompt_number": 1
    },
    {
     "cell_type": "code",
     "collapsed": false,
     "input": [
      "# Now, lets try it out\n",
      "n = 13195\n",
      "print(\"solution_3({}) = {}\".format(n, solution_3(n)))"
     ],
     "language": "python",
     "metadata": {},
     "outputs": [
      {
       "output_type": "stream",
       "stream": "stdout",
       "text": [
        "5 is a factor, remaining value is 2639\n",
        "7 is a factor, remaining value is 377\n",
        "13 is a factor, remaining value is 29\n",
        "29 is the sole remaining factor\n",
        "solution_3(13195) = 29\n"
       ]
      }
     ],
     "prompt_number": 2
    },
    {
     "cell_type": "code",
     "collapsed": false,
     "input": [
      "# Now, lets try it out on the full problem\n",
      "n = 600851475143\n",
      "print(\"solution_3({}) = {}\".format(n, solution_3(n)))"
     ],
     "language": "python",
     "metadata": {},
     "outputs": [
      {
       "output_type": "stream",
       "stream": "stdout",
       "text": [
        "71 is a factor, remaining value is 8462696833\n",
        "839 is a factor, remaining value is 10086647\n",
        "1471 is a factor, remaining value is 6857\n",
        "6857 is the sole remaining factor\n",
        "solution_3(600851475143) = 6857\n"
       ]
      }
     ],
     "prompt_number": 3
    },
    {
     "cell_type": "code",
     "collapsed": false,
     "input": [
      "# We can actually make up our own problems pretty easily\n",
      "# One potential bug might be if the same factor is in a number more than once\n",
      "# We've taken care of in our solution above, but will your solution work?\n",
      "n = 2*2*2*2*2*2*7\n",
      "print(\"solution_3({}) = {}\".format(n, solution_3(n)))"
     ],
     "language": "python",
     "metadata": {},
     "outputs": [
      {
       "output_type": "stream",
       "stream": "stdout",
       "text": [
        "2 is a factor, remaining value is 224\n",
        "2 is a factor, remaining value is 112\n",
        "2 is a factor, remaining value is 56\n",
        "2 is a factor, remaining value is 28\n",
        "2 is a factor, remaining value is 14\n",
        "2 is a factor, remaining value is 7\n",
        "7 is the sole remaining factor\n",
        "solution_3(448) = 7\n"
       ]
      }
     ],
     "prompt_number": 4
    },
    {
     "cell_type": "code",
     "collapsed": false,
     "input": [
      "# Our brute force solution might not work so well for large numbers\n",
      "# Let's try it with all the primes less than 100 (via a Google search)\n",
      "primes = [2, 3, 5, 7, 11, 13, 17, 19, 23, 29, 31, 37, 41, 43, 47, 53, 59, 61, 67, 71, 73, 79, 83, 89, 97]\n",
      "n = 1\n",
      "for p in primes:\n",
      "    n *= p\n",
      "print(\"solution_3({}) = {}\".format(n, solution_3(n)))"
     ],
     "language": "python",
     "metadata": {},
     "outputs": [
      {
       "output_type": "stream",
       "stream": "stdout",
       "text": [
        "2 is a factor, remaining value is 1152783981972759212376551073665878035\n",
        "3 is a factor, remaining value is 384261327324253070792183691221959345\n",
        "5 is a factor, remaining value is 76852265464850614158436738244391869\n",
        "7 is a factor, remaining value is 10978895066407230594062391177770267\n",
        "11 is a factor, remaining value is 998081369673384599460217379797297\n",
        "13 is a factor, remaining value is 76775489974875738420016721522869\n",
        "17 is a factor, remaining value is 4516205292639749318824513030757\n",
        "19 is a factor, remaining value is 237695015402092069411816475303\n",
        "23 is a factor, remaining value is 10334565887047481278774629361\n",
        "29 is a factor, remaining value is 356364340932671768233607909\n",
        "31 is a factor, remaining value is 11495623901053928007535739\n",
        "37 is a factor, remaining value is 310692537866322378582047\n",
        "41 is a factor, remaining value is 7577866777227375087367\n",
        "43 is a factor, remaining value is 176229459935520350869\n",
        "47 is a factor, remaining value is 3749562977351496827\n",
        "53 is a factor, remaining value is 70746471270782959\n",
        "59 is a factor, remaining value is 1199092733403101\n",
        "61 is a factor, remaining value is 19657257924641\n",
        "67 is a factor, remaining value is 293391909323\n",
        "71 is a factor, remaining value is 4132280413\n",
        "73 is a factor, remaining value is 56606581\n",
        "79 is a factor, remaining value is 716539\n",
        "83 is a factor, remaining value is 8633\n",
        "89 is a factor, remaining value is 97\n",
        "97 is the sole remaining factor\n",
        "solution_3(2305567963945518424753102147331756070) = 97\n"
       ]
      }
     ],
     "prompt_number": 5
    },
    {
     "cell_type": "code",
     "collapsed": false,
     "input": [
      "# Our brute force solution might not work so well for large numbers\n",
      "# Let's try it with a large prime (again, via a Google search)\n",
      "p_1000   = 7919  # The 1,000th prime\n",
      "p_10000  = 104729  # The 10,000th prime\n",
      "p_100000 = 1299827 # the 100,000th prime\n",
      "n = p_1000 * p_10000 * p_100000 * p_100000\n",
      "print(\"solution_3({}) = {}\".format(n, solution_3(n)))"
     ],
     "language": "python",
     "metadata": {},
     "outputs": [
      {
       "output_type": "stream",
       "stream": "stdout",
       "text": [
        "7919 is a factor, remaining value is 176944906030234241\n",
        "104729 is a factor, remaining value is 1689550229929"
       ]
      },
      {
       "output_type": "stream",
       "stream": "stdout",
       "text": [
        "\n",
        "1299827 is a factor, remaining value is 1299827"
       ]
      },
      {
       "output_type": "stream",
       "stream": "stdout",
       "text": [
        "\n",
        "1299827 is a factor, remaining value is 1\n",
        "1 is the sole remaining factor\n",
        "solution_3(1401226710853424954479) = 1\n"
       ]
      }
     ],
     "prompt_number": 6
    },
    {
     "cell_type": "markdown",
     "metadata": {},
     "source": [
      "And we've found a bug.  The largest prime factor here is 1299827, but our code returns 1.  Can you find the bug and fix the code?"
     ]
    },
    {
     "cell_type": "code",
     "collapsed": false,
     "input": [
      "# This code has a bug, fix it please!\n",
      "def solution_3a(n):\n",
      "    i = 2\n",
      "    while (i**2 <= n):\n",
      "        while ((n % i) == 0):\n",
      "            n /= i\n",
      "            print(\"{} is a factor, remaining value is {}\".format(i, n))\n",
      "        i += 1\n",
      "    if (n == 1):\n",
      "        answer = i-1\n",
      "    else:\n",
      "        answer = n\n",
      "    print(\"{} is the largest factor\".format(answer))\n",
      "    return answer"
     ],
     "language": "python",
     "metadata": {},
     "outputs": [],
     "prompt_number": 15
    },
    {
     "cell_type": "code",
     "collapsed": false,
     "input": [
      "# Then test your fix with this code\n",
      "assert solution_3a(n) == p_100000"
     ],
     "language": "python",
     "metadata": {},
     "outputs": [
      {
       "output_type": "stream",
       "stream": "stdout",
       "text": [
        "7919 is a factor, remaining value is 176944906030234241\n",
        "104729 is a factor, remaining value is 1689550229929"
       ]
      },
      {
       "output_type": "stream",
       "stream": "stdout",
       "text": [
        "\n",
        "1299827 is a factor, remaining value is 1299827"
       ]
      },
      {
       "output_type": "stream",
       "stream": "stdout",
       "text": [
        "\n",
        "1299827 is a factor, remaining value is 1\n",
        "1299827 is the largest factor\n"
       ]
      }
     ],
     "prompt_number": 17
    },
    {
     "cell_type": "code",
     "collapsed": false,
     "input": [],
     "language": "python",
     "metadata": {},
     "outputs": []
    }
   ],
   "metadata": {}
  }
 ]
}