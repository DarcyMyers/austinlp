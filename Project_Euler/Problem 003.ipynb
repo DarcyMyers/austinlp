{
 "metadata": {
  "name": ""
 },
 "nbformat": 3,
 "nbformat_minor": 0,
 "worksheets": [
  {
   "cells": [
    {
     "cell_type": "markdown",
     "metadata": {},
     "source": [
      "![Project Euler.net](https://projecteuler.net/images/pe_banner_light.png)\n",
      "\n",
      "https://projecteuler.net/problem=3\n",
      "Problem 3 - Largest prime factor\n",
      "====\n",
      "\n",
      "The prime factors of 13195 are 5, 7, 13 and 29.\n",
      "\n",
      "What is the largest prime factor of the number 600851475143 ?"
     ]
    },
    {
     "cell_type": "markdown",
     "metadata": {},
     "source": [
      "----\n",
      "Note - once again, we are supplied with a  solution for a smaller version of the problem.  We should test our solution code with this smaller version before we try the larger version.\n",
      "\n",
      "----"
     ]
    },
    {
     "cell_type": "markdown",
     "metadata": {},
     "source": [
      "First approach to the problem - simple brute force division\n",
      "---"
     ]
    },
    {
     "cell_type": "code",
     "collapsed": false,
     "input": [
      "def solution_3(n):\n",
      "    i = 2\n",
      "    while (i**2 <= n):\n",
      "        while ((n % i) == 0):\n",
      "            n /= i\n",
      "            print(\"{} is a factor, remaining value is {}\".format(i, n))\n",
      "        i += 1\n",
      "    print(\"{} is the sole remaining factor\".format(n))\n",
      "    return n"
     ],
     "language": "python",
     "metadata": {},
     "outputs": []
    },
    {
     "cell_type": "code",
     "collapsed": false,
     "input": [
      "# Now, lets try it out\n",
      "n = 13195\n",
      "print(\"solution_3({}) = {}\".format(n, solution_3(n)))"
     ],
     "language": "python",
     "metadata": {},
     "outputs": []
    },
    {
     "cell_type": "code",
     "collapsed": false,
     "input": [
      "# Now, lets try it out on the full problem\n",
      "n = 600851475143\n",
      "print(\"solution_3({}) = {}\".format(n, solution_3(n)))"
     ],
     "language": "python",
     "metadata": {},
     "outputs": []
    },
    {
     "cell_type": "code",
     "collapsed": false,
     "input": [
      "# We can actually make up our own problems pretty easily\n",
      "# One potential bug might be if the same factor is in a number more than once\n",
      "# We've taken care of in our solution above, but will your solution work?\n",
      "n = 2*2*2*2*2*2*7\n",
      "print(\"solution_3({}) = {}\".format(n, solution_3(n)))"
     ],
     "language": "python",
     "metadata": {},
     "outputs": []
    },
    {
     "cell_type": "code",
     "collapsed": false,
     "input": [
      "# Our brute force solution might not work so well for large numbers\n",
      "# Let's try it with all the primes less than 100 (via a Google search)\n",
      "primes = [2, 3, 5, 7, 11, 13, 17, 19, 23, 29, 31, 37, 41, 43, 47, 53, 59, 61, 67, 71, 73, 79, 83, 89, 97]\n",
      "n = 1\n",
      "for p in primes:\n",
      "    n *= p\n",
      "print(\"solution_3({}) = {}\".format(n, solution_3(n)))"
     ],
     "language": "python",
     "metadata": {},
     "outputs": []
    },
    {
     "cell_type": "code",
     "collapsed": false,
     "input": [
      "# Our brute force solution might not work so well for large numbers\n",
      "# Let's try it with a large prime (again, via a Google search)\n",
      "p_1000   = 7919  # The 1,000th prime\n",
      "p_10000  = 104729  # The 10,000th prime\n",
      "p_100000 = 1299827 # the 100,000th prime\n",
      "n = p_1000 * p_10000 * p_100000 * p_100000\n",
      "print(\"solution_3({}) = {}\".format(n, solution_3(n)))"
     ],
     "language": "python",
     "metadata": {},
     "outputs": []
    },
    {
     "cell_type": "markdown",
     "metadata": {},
     "source": [
      "And we've found a bug.  The largest prime factor here is 1299827, but our code returns 1.  Can you find the bug and fix the code?"
     ]
    },
    {
     "cell_type": "code",
     "collapsed": false,
     "input": [
      "# This code has a bug, fix it please!\n",
      "def solution_3a(n):\n",
      "    i = 2\n",
      "    while (i**2 <= n):\n",
      "        while ((n % i) == 0):\n",
      "            n /= i\n",
      "            print(\"{} is a factor, remaining value is {}\".format(i, n))\n",
      "        i += 1\n",
      "    if (n == 1):\n",
      "        answer = i-1\n",
      "    else:\n",
      "        answer = n\n",
      "    print(\"{} is the largest factor\".format(answer))\n",
      "    return answer"
     ],
     "language": "python",
     "metadata": {},
     "outputs": []
    },
    {
     "cell_type": "code",
     "collapsed": false,
     "input": [
      "# Then test your fix with this code\n",
      "assert solution_3a(n) == p_100000"
     ],
     "language": "python",
     "metadata": {},
     "outputs": []
    },
    {
     "cell_type": "markdown",
     "metadata": {},
     "source": [
      "____\n",
      "\n",
      "Did you notice that the number we used above is quite large?  600851475143 is actually 40 bits long.  What happens if we tried to implement this as a 32 bit integer?\n",
      "\n",
      "Python is pretty nice for us here - it automatically recognized that this number is too large to be a 32 bit integer, so it used a type that allows for arbitrary sized integers."
     ]
    },
    {
     "cell_type": "code",
     "collapsed": false,
     "input": [
      "# Let's try and see if we give it something even bigger\n",
      "600851475143 **2"
     ],
     "language": "python",
     "metadata": {},
     "outputs": []
    },
    {
     "cell_type": "code",
     "collapsed": false,
     "input": [
      "# Bigger, bigger...\n",
      "600851475143 ** 3"
     ],
     "language": "python",
     "metadata": {},
     "outputs": []
    },
    {
     "cell_type": "code",
     "collapsed": false,
     "input": [
      "# We can do better...\n",
      "600851475143 ** 26\n",
      "# this should be a 1018 bit number"
     ],
     "language": "python",
     "metadata": {},
     "outputs": []
    },
    {
     "cell_type": "markdown",
     "metadata": {},
     "source": [
      "But there is a price.  Arbitrary sized integers are slower to process"
     ]
    },
    {
     "cell_type": "code",
     "collapsed": false,
     "input": [
      "def increment_a_million_times(n):\n",
      "    for i in range(1000000):\n",
      "        n += 1\n",
      "    return n"
     ],
     "language": "python",
     "metadata": {},
     "outputs": []
    },
    {
     "cell_type": "code",
     "collapsed": false,
     "input": [
      "%timeit increment_a_million_times(1)"
     ],
     "language": "python",
     "metadata": {},
     "outputs": []
    },
    {
     "cell_type": "code",
     "collapsed": false,
     "input": [
      "%timeit increment_a_million_times(600851475143)"
     ],
     "language": "python",
     "metadata": {},
     "outputs": []
    },
    {
     "cell_type": "code",
     "collapsed": false,
     "input": [
      "%timeit increment_a_million_times(600851475143**2)"
     ],
     "language": "python",
     "metadata": {},
     "outputs": []
    },
    {
     "cell_type": "code",
     "collapsed": false,
     "input": [
      "%timeit increment_a_million_times(600851475143**26)"
     ],
     "language": "python",
     "metadata": {},
     "outputs": []
    },
    {
     "cell_type": "code",
     "collapsed": false,
     "input": [],
     "language": "python",
     "metadata": {},
     "outputs": []
    }
   ],
   "metadata": {}
  }
 ]
}