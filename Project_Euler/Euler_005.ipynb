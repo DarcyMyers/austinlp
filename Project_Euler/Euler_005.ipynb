{
 "metadata": {
  "name": ""
 },
 "nbformat": 3,
 "nbformat_minor": 0,
 "worksheets": [
  {
   "cells": [
    {
     "cell_type": "markdown",
     "metadata": {},
     "source": [
      "![Project Euler.net](https://projecteuler.net/images/pe_banner_light.png)\n",
      "\n",
      "https://projecteuler.net/problem=5\n",
      "Problem 5 - Smallest multiple\n",
      "====\n",
      "\n",
      "2520 is the smallest number that can be divided by each of the numbers from 1 to 10 without any remainder.\n",
      "\n",
      "What is the smallest positive number that is <em>evenly divisible</em> by all of the numbers from 1 to 20?\n"
     ]
    },
    {
     "cell_type": "markdown",
     "metadata": {},
     "source": [
      "----\n",
      "This problem is actually simple enough that we could solve it by using Python as a calculator.  Let's try that first.\n",
      "\n",
      "First we factor all of the digits 1 to 10 as follows.\n",
      "\n",
      "- $1 = 1$\n",
      "- $2 = 2$\n",
      "- $3 = 3$\n",
      "- $4 = 2^2$\n",
      "- $5 = 5$\n",
      "- $6 = 2 * 3$\n",
      "- $7 = 7$\n",
      "- $8 = 2^3$\n",
      "- $9 = 3^2$\n",
      "- $10 = 2 * 5$\n",
      "\n",
      "So a number which is divisible by all of these must be a multiple of every prime that appears in this list, raised to the highest power that it appears raised to.\n",
      "\n",
      "So the solution for $1..10$ must be\n",
      "\n",
      "- $Solution = 2^3 * 3^2 * 5 * 7$\n",
      "\n",
      "Let's calculate this with Python\n",
      "\n",
      "----"
     ]
    },
    {
     "cell_type": "code",
     "collapsed": false,
     "input": [
      "answer = 2**3 * 3**2 * 5 * 7\n",
      "print answer"
     ],
     "language": "python",
     "metadata": {},
     "outputs": []
    },
    {
     "cell_type": "markdown",
     "metadata": {},
     "source": [
      "\n",
      "- $11 = 11$\n",
      "- $12 = 2^2 * 3$\n",
      "- $13 = 13$\n",
      "- $14 = 2 * 7$\n",
      "- $15 = 3 * 5$\n",
      "- $16 = 2^4$\n",
      "- $17 = 17$\n",
      "- $18 = 2 * 3^2$\n",
      "- $19 = 19$\n",
      "- $20 = 2^2 * 5$\n",
      "\n",
      "So a number which is divisible by all of these must be a multiple of every prime that appears in this list, raised to the highest power that it appears raised to.\n",
      "\n",
      "So the solution for $1..20$ must be\n",
      "\n",
      "- $Solution = 2^4 * 3^2 * 5 * 7 * 11 * 13 * 17 * 19$\n",
      "\n",
      "Let's calculate this with Python\n",
      "\n",
      "----"
     ]
    },
    {
     "cell_type": "code",
     "collapsed": false,
     "input": [
      "answer = 2**4 * 3**2 * 5 * 7 * 11 * 13 * 17 * 19\n",
      "print answer"
     ],
     "language": "python",
     "metadata": {},
     "outputs": []
    }
   ],
   "metadata": {}
  }
 ]
}