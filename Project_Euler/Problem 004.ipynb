{
 "metadata": {
  "name": ""
 },
 "nbformat": 3,
 "nbformat_minor": 0,
 "worksheets": [
  {
   "cells": [
    {
     "cell_type": "markdown",
     "metadata": {},
     "source": [
      "![Project Euler.net](https://projecteuler.net/images/pe_banner_light.png)\n",
      "\n",
      "https://projecteuler.net/problem=4\n",
      "Problem 4 - Largest palindrome product\n",
      "====\n",
      "\n",
      "\n",
      "A palindromic number reads the same both ways. The largest palindrome made from the product of two 2-digit numbers is 9009 = 91 \u00d7 99.\n",
      "\n",
      "Find the largest palindrome made from the product of two 3-digit numbers.\n"
     ]
    },
    {
     "cell_type": "markdown",
     "metadata": {},
     "source": [
      "----\n",
      "Note - once again, we are supplied with a  solution for a smaller version of the problem.  We should test our solution code with this smaller version before we try the larger version.\n",
      "\n",
      "----"
     ]
    },
    {
     "cell_type": "markdown",
     "metadata": {},
     "source": [
      "First, we're going to need a function to test if a number is a palindrome\n",
      "---"
     ]
    },
    {
     "cell_type": "code",
     "collapsed": false,
     "input": [
      "num = 4554\n",
      "snum = \"{}\".format(num)\n",
      "print snum, len(snum)/2, range(len(snum)/2)\n",
      "for i in range(len(snum)/2):\n",
      "    print \"snum[{}] = {}, snum[{}] = {}\".format(i, snum[i], -i, snum[-i])"
     ],
     "language": "python",
     "metadata": {},
     "outputs": [
      {
       "output_type": "stream",
       "stream": "stdout",
       "text": [
        "4554 2 [0, 1]\n",
        "snum[0] = 4, snum[0] = 4\n",
        "snum[1] = 5, snum[-1] = 4\n"
       ]
      }
     ],
     "prompt_number": 15
    },
    {
     "cell_type": "code",
     "collapsed": false,
     "input": [
      "def is_palindrome(num):\n",
      "    snum = \"{}\".format(num)\n",
      "    lnum = len(snum)\n",
      "    for i in range(lnum/2):\n",
      "        if (snum[i] != snum[-i]):\n",
      "            return False\n",
      "    return True"
     ],
     "language": "python",
     "metadata": {},
     "outputs": [],
     "prompt_number": 17
    },
    {
     "cell_type": "code",
     "collapsed": false,
     "input": [
      "# Now lets test our is_palindrome function\n",
      "assert is_palindrome(454) == True\n",
      "assert is_palindrome(455) == False\n",
      "assert is_palindrome(1) == True\n",
      "assert is_palindrome(12) == False\n",
      "assert is_palindrome(4567) == False\n",
      "assert is_palindrome(4554) == True"
     ],
     "language": "python",
     "metadata": {},
     "outputs": [
      {
       "ename": "AssertionError",
       "evalue": "",
       "output_type": "pyerr",
       "traceback": [
        "\u001b[0;31m---------------------------------------------------------------------------\u001b[0m\n\u001b[0;31mAssertionError\u001b[0m                            Traceback (most recent call last)",
        "\u001b[0;32m<ipython-input-18-28bae38bdb33>\u001b[0m in \u001b[0;36m<module>\u001b[0;34m()\u001b[0m\n\u001b[1;32m      1\u001b[0m \u001b[0;31m# Now lets test our is_palindrome function\u001b[0m\u001b[0;34m\u001b[0m\u001b[0;34m\u001b[0m\u001b[0m\n\u001b[1;32m      2\u001b[0m \u001b[0;32massert\u001b[0m \u001b[0mis_palindrome\u001b[0m\u001b[0;34m(\u001b[0m\u001b[0;36m454\u001b[0m\u001b[0;34m)\u001b[0m \u001b[0;34m==\u001b[0m \u001b[0mTrue\u001b[0m\u001b[0;34m\u001b[0m\u001b[0m\n\u001b[0;32m----> 3\u001b[0;31m \u001b[0;32massert\u001b[0m \u001b[0mis_palindrome\u001b[0m\u001b[0;34m(\u001b[0m\u001b[0;36m455\u001b[0m\u001b[0;34m)\u001b[0m \u001b[0;34m==\u001b[0m \u001b[0mFalse\u001b[0m\u001b[0;34m\u001b[0m\u001b[0m\n\u001b[0m\u001b[1;32m      4\u001b[0m \u001b[0;32massert\u001b[0m \u001b[0mis_palindrome\u001b[0m\u001b[0;34m(\u001b[0m\u001b[0;36m1\u001b[0m\u001b[0;34m)\u001b[0m \u001b[0;34m==\u001b[0m \u001b[0mTrue\u001b[0m\u001b[0;34m\u001b[0m\u001b[0m\n\u001b[1;32m      5\u001b[0m \u001b[0;32massert\u001b[0m \u001b[0mis_palindrome\u001b[0m\u001b[0;34m(\u001b[0m\u001b[0;36m12\u001b[0m\u001b[0;34m)\u001b[0m \u001b[0;34m==\u001b[0m \u001b[0mFalse\u001b[0m\u001b[0;34m\u001b[0m\u001b[0m\n",
        "\u001b[0;31mAssertionError\u001b[0m: "
       ]
      }
     ],
     "prompt_number": 18
    },
    {
     "cell_type": "code",
     "collapsed": false,
     "input": [
      "# code to debug\n",
      "num = 4554\n",
      "snum = \"{}\".format(num)\n",
      "print snum, len(snum)/2, range(len(snum)/2)\n",
      "for i in range(len(snum)/2):\n",
      "    print \"snum[{}] = {}, snum[{}] = {}\".format(i, snum[i], -i, snum[-i])"
     ],
     "language": "python",
     "metadata": {},
     "outputs": [
      {
       "output_type": "stream",
       "stream": "stdout",
       "text": [
        "4554 2 [0, 1]\n",
        "snum[0] = 4, snum[0] = 4\n",
        "snum[1] = 5, snum[-1] = 4\n"
       ]
      }
     ],
     "prompt_number": 16
    },
    {
     "cell_type": "code",
     "collapsed": false,
     "input": [
      "# fixed is_palindrome function\n",
      "def is_palindrome(num):\n",
      "    snum = \"{}\".format(num)\n",
      "    lnum = len(snum)\n",
      "    for i in range(lnum/2):\n",
      "        if (snum[i] != snum[-i-1]):\n",
      "            return False\n",
      "    return True"
     ],
     "language": "python",
     "metadata": {},
     "outputs": [],
     "prompt_number": 19
    },
    {
     "cell_type": "code",
     "collapsed": false,
     "input": [
      "# Now lets test our is_palindrome function\n",
      "assert is_palindrome(454) == True\n",
      "assert is_palindrome(455) == False\n",
      "assert is_palindrome(1) == True\n",
      "assert is_palindrome(12) == False\n",
      "assert is_palindrome(4567) == False\n",
      "assert is_palindrome(4554) == True"
     ],
     "language": "python",
     "metadata": {},
     "outputs": [],
     "prompt_number": 20
    },
    {
     "cell_type": "markdown",
     "metadata": {},
     "source": [
      "OK, now that we've got a function to test palindromes, lets start making them\n",
      "----"
     ]
    },
    {
     "cell_type": "code",
     "collapsed": false,
     "input": [],
     "language": "python",
     "metadata": {},
     "outputs": []
    }
   ],
   "metadata": {}
  }
 ]
}